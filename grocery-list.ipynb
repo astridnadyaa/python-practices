{
 "cells": [
  {
   "cell_type": "markdown",
   "metadata": {},
   "source": [
    "# Grocery List Script"
   ]
  },
  {
   "cell_type": "code",
   "execution_count": 6,
   "metadata": {},
   "outputs": [
    {
     "name": "stdout",
     "output_type": "stream",
     "text": [
      "Grocery List Program\n",
      "-------------------------\n",
      "Here is your grocery list: \n",
      "apple: IDR 35000.0\n",
      "eggs: IDR 23000.0\n",
      "bread: IDR 12000.0\n",
      "cherries: IDR 200.0\n",
      "-------------------------\n"
     ]
    }
   ],
   "source": [
    "def separate_section():\n",
    "    print(\"-\" * 25)\n",
    "\n",
    "print(\"Grocery List Program\")\n",
    "grocery_list = {}\n",
    "\n",
    "while True:\n",
    "    item_name_input = input(\"Input an item (type 'end' to finish): \")\n",
    "    if item_name_input == \"end\":\n",
    "        break\n",
    "    item_price_input = input(\"Input an item's price: \")\n",
    "    grocery_list[item_name_input] = float(item_price_input)\n",
    "\n",
    "separate_section()\n",
    "print(\"Here is your grocery list: \")\n",
    "for item, price in grocery_list.items():\n",
    "    print(f\"{item}: IDR {price}\")\n",
    "\n",
    "separate_section()\n",
    "def find_in_dict(some_dict, *item_names):\n",
    "    for item_name in item_names:\n",
    "        for item in some_dict.keys():\n",
    "            if item == item_name:\n",
    "                print(f\"{item_name} is on the list.\")\n",
    "                break\n",
    "        else:\n",
    "            print(f\"{item_name} is not on the list.\")\n",
    "\n",
    "def groceries_total_cost(grocery_list):\n",
    "    total_cost = 0\n",
    "    for item_price in grocery_list.values():\n",
    "        total_cost += item_price\n",
    "    return total_cost"
   ]
  },
  {
   "cell_type": "markdown",
   "metadata": {},
   "source": [
    "# Grocery List Class"
   ]
  },
  {
   "cell_type": "code",
   "execution_count": null,
   "metadata": {},
   "outputs": [
    {
     "name": "stdout",
     "output_type": "stream",
     "text": [
      "-------------------------\n",
      "Potatoes is not on the list.\n",
      "Eggs is on the list.\n",
      "Bread is on the list.\n",
      "-------------------------\n",
      "Here is your Sunday grocery list: \n",
      "apple: IDR 35000.0\n",
      "eggs: IDR 23000.0\n",
      "bread: IDR 12000.0\n",
      "cherries: IDR 200.0\n",
      "Total amount: 70200.0\n"
     ]
    }
   ],
   "source": [
    "class GroceryList:\n",
    "    def __init__(self, name):\n",
    "        self.name = name\n",
    "        self.groceries_dict = {}\n",
    "\n",
    "    def input_groceries(self):\n",
    "        while True:\n",
    "            item_name_input = input(\"Input an item (type 'end' to finish): \")\n",
    "            if item_name_input == \"end\":\n",
    "                break\n",
    "            item_price_input = input(\"Input an item's price: \")\n",
    "            self.groceries_dict[item_name_input] = float(item_price_input)\n",
    "\n",
    "    def info(self):\n",
    "        print(f\"Here is your {self.name} grocery list: \")\n",
    "        for name, price in self.groceries_dict.items():\n",
    "            print(f\"{name}: IDR {price}\")\n",
    "        print(f\"Total amount: IDR {self.total_cost()}\")\n",
    "\n",
    "    def find_in_dict(self, *item_names):\n",
    "        for item_name in item_names:\n",
    "            for item in self.groceries_dict.keys():\n",
    "                if item == item_name:\n",
    "                    print(f\"{item_name.capitalize()} is on the list.\")\n",
    "                    break\n",
    "            else:\n",
    "                print(f\"{item_name.capitalize()} is not on the list.\")\n",
    "\n",
    "    def total_cost(self):\n",
    "        total_cost = 0\n",
    "        for item_price in self.groceries_dict.values():\n",
    "            total_cost += item_price\n",
    "        return total_cost\n",
    "\n",
    "def separate_section():\n",
    "    print(\"-\" * 25)\n",
    "\n",
    "sunday_groceries = GroceryList(\"Sunday\")\n",
    "sunday_groceries.input_groceries()\n",
    "separate_section()\n",
    "sunday_groceries.find_in_dict(\"potatoes\", \"eggs\", \"bread\")\n",
    "separate_section()\n",
    "sunday_groceries.info()"
   ]
  },
  {
   "cell_type": "code",
   "execution_count": null,
   "metadata": {},
   "outputs": [],
   "source": []
  }
 ],
 "metadata": {
  "kernelspec": {
   "display_name": "base",
   "language": "python",
   "name": "python3"
  },
  "language_info": {
   "codemirror_mode": {
    "name": "ipython",
    "version": 3
   },
   "file_extension": ".py",
   "mimetype": "text/x-python",
   "name": "python",
   "nbconvert_exporter": "python",
   "pygments_lexer": "ipython3",
   "version": "3.10.12"
  }
 },
 "nbformat": 4,
 "nbformat_minor": 2
}
