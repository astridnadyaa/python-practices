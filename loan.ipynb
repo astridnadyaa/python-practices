{
 "cells": [
  {
   "cell_type": "code",
   "execution_count": 1,
   "metadata": {},
   "outputs": [
    {
     "name": "stdout",
     "output_type": "stream",
     "text": [
      "Paid 1000.0 of which 125.0 was interest. Now I owe 49125.0\n"
     ]
    }
   ],
   "source": [
    "# Calculate the amount of interest paid on a loan in a month\n",
    "# Loan's details\n",
    "money_owed = float(input(\"How much money do you owe, in dollars?\\n\")) # $50,000\n",
    "apr = float(input(\"What is the annual percentage rate of the loan?\\n\")) # 3%\n",
    "payment = float(input(\"What will your monthly payment be, in dollars?\\n\")) # $1,000\n",
    "months = int(input(\"How many months do you want to see the results for?\\n\")) # 2 years\n",
    "\n",
    "monthly_rate = apr/100/12\n",
    "\n",
    "# Calculate interest to pay\n",
    "interest_paid = money_owed * monthly_rate\n",
    "\n",
    "# Add in interest\n",
    "money_owed = money_owed + interest_paid\n",
    "\n",
    "# Make payment\n",
    "money_owed = money_owed - payment\n",
    "\n",
    "# Results\n",
    "print(\"Paid\", payment, \"of which\", interest_paid, \"was interest.\", end=' ')\n",
    "print(\"Now I owe\", money_owed)"
   ]
  },
  {
   "cell_type": "code",
   "execution_count": 4,
   "metadata": {},
   "outputs": [
    {
     "name": "stdout",
     "output_type": "stream",
     "text": [
      "Paid 1000.0 of which 125.0 was interest. Now I owe 49125.0\n",
      "Paid 1000.0 of which 122.8125 was interest. Now I owe 48247.8125\n",
      "Paid 1000.0 of which 120.61953125000001 was interest. Now I owe 47368.43203125\n",
      "Paid 1000.0 of which 118.421080078125 was interest. Now I owe 46486.85311132812\n",
      "Paid 1000.0 of which 116.2171327783203 was interest. Now I owe 45603.07024410644\n",
      "Paid 1000.0 of which 114.0076756102661 was interest. Now I owe 44717.07791971671\n",
      "Paid 1000.0 of which 111.79269479929177 was interest. Now I owe 43828.870614515996\n",
      "Paid 1000.0 of which 109.57217653628999 was interest. Now I owe 42938.442791052286\n",
      "Paid 1000.0 of which 107.34610697763071 was interest. Now I owe 42045.78889802992\n",
      "Paid 1000.0 of which 105.1144722450748 was interest. Now I owe 41150.903370274995\n",
      "Paid 1000.0 of which 102.87725842568749 was interest. Now I owe 40253.78062870068\n",
      "Paid 1000.0 of which 100.63445157175171 was interest. Now I owe 39354.41508027243\n",
      "Paid 1000.0 of which 98.38603770068109 was interest. Now I owe 38452.80111797311\n",
      "Paid 1000.0 of which 96.13200279493277 was interest. Now I owe 37548.933120768044\n",
      "Paid 1000.0 of which 93.87233280192011 was interest. Now I owe 36642.80545356996\n",
      "Paid 1000.0 of which 91.60701363392491 was interest. Now I owe 35734.41246720389\n",
      "Paid 1000.0 of which 89.33603116800973 was interest. Now I owe 34823.7484983719\n",
      "Paid 1000.0 of which 87.05937124592974 was interest. Now I owe 33910.80786961783\n",
      "Paid 1000.0 of which 84.77701967404457 was interest. Now I owe 32995.58488929187\n",
      "Paid 1000.0 of which 82.48896222322968 was interest. Now I owe 32078.073851515102\n",
      "Paid 1000.0 of which 80.19518462878776 was interest. Now I owe 31158.26903614389\n",
      "Paid 1000.0 of which 77.89567259035972 was interest. Now I owe 30236.16470873425\n",
      "Paid 1000.0 of which 75.59041177183563 was interest. Now I owe 29311.755120506084\n",
      "Paid 1000.0 of which 73.27938780126522 was interest. Now I owe 28385.034508307348\n",
      "Paid 1000.0 of which 70.96258627076837 was interest. Now I owe 27455.997094578117\n",
      "Paid 1000.0 of which 68.6399927364453 was interest. Now I owe 26524.63708731456\n",
      "Paid 1000.0 of which 66.3115927182864 was interest. Now I owe 25590.94868003285\n",
      "Paid 1000.0 of which 63.977371700082124 was interest. Now I owe 24654.92605173293\n",
      "Paid 1000.0 of which 61.63731512933233 was interest. Now I owe 23716.563366862265\n",
      "Paid 1000.0 of which 59.291408417155665 was interest. Now I owe 22775.854775279422\n",
      "Paid 1000.0 of which 56.939636938198554 was interest. Now I owe 21832.79441221762\n",
      "Paid 1000.0 of which 54.58198603054405 was interest. Now I owe 20887.376398248165\n",
      "Paid 1000.0 of which 52.21844099562041 was interest. Now I owe 19939.594839243786\n",
      "Paid 1000.0 of which 49.84898709810947 was interest. Now I owe 18989.443826341896\n",
      "Paid 1000.0 of which 47.473609565854744 was interest. Now I owe 18036.91743590775\n",
      "Paid 1000.0 of which 45.092293589769376 was interest. Now I owe 17082.00972949752\n",
      "Paid 1000.0 of which 42.7050243237438 was interest. Now I owe 16124.714753821263\n",
      "Paid 1000.0 of which 40.31178688455316 was interest. Now I owe 15165.026540705816\n",
      "Paid 1000.0 of which 37.91256635176454 was interest. Now I owe 14202.93910705758\n",
      "Paid 1000.0 of which 35.50734776764395 was interest. Now I owe 13238.446454825224\n",
      "Paid 1000.0 of which 33.096116137063056 was interest. Now I owe 12271.542570962287\n",
      "Paid 1000.0 of which 30.67885642740572 was interest. Now I owe 11302.221427389693\n",
      "Paid 1000.0 of which 28.255553568474234 was interest. Now I owe 10330.476980958168\n",
      "Paid 1000.0 of which 25.82619245239542 was interest. Now I owe 9356.303173410564\n",
      "Paid 1000.0 of which 23.390757933526412 was interest. Now I owe 8379.69393134409\n",
      "Paid 1000.0 of which 20.94923482836023 was interest. Now I owe 7400.643166172451\n",
      "Paid 1000.0 of which 18.501607915431126 was interest. Now I owe 6419.144774087882\n",
      "Paid 1000.0 of which 16.047861935219707 was interest. Now I owe 5435.192636023102\n",
      "Paid 1000.0 of which 13.587981590057755 was interest. Now I owe 4448.78061761316\n",
      "Paid 1000.0 of which 11.1219515440329 was interest. Now I owe 3459.9025691571924\n",
      "Paid 1000.0 of which 8.649756422892981 was interest. Now I owe 2468.5523255800854\n",
      "Paid 1000.0 of which 6.171380813950214 was interest. Now I owe 1474.7237063940356\n",
      "Paid 1000.0 of which 3.6868092659850893 was interest. Now I owe 478.4105156600208\n",
      "The last payment is 479.60654194917083\n",
      "You paid off the loan in 54 months\n"
     ]
    }
   ],
   "source": [
    "# Calculate the amount of interest paid on a loan in monthly basis\n",
    "# Loan's details\n",
    "money_owed = float(input(\"How much money do you owe, in dollars?\\n\")) # $50,000\n",
    "apr = float(input(\"What is the annual percentage rate of the loan?\\n\")) # 3%\n",
    "payment = float(input(\"What will your monthly payment be, in dollars?\\n\")) # $1,000\n",
    "months = int(input(\"How many months do you want to see the results for?\\n\")) # 54\n",
    "\n",
    "monthly_rate = apr/100/12\n",
    "\n",
    "for i in range(months):\n",
    "    # Calculate interest to pay\n",
    "    interest_paid = money_owed * monthly_rate\n",
    "\n",
    "    # Add in interest\n",
    "    money_owed = money_owed + interest_paid\n",
    "\n",
    "    if(money_owed - payment < 0):\n",
    "        print(\"The last payment is\", money_owed)\n",
    "        print(\"You paid off the loan in\", i+1, \"months\")\n",
    "        break\n",
    "\n",
    "    # Make payment\n",
    "    money_owed = money_owed - payment\n",
    "\n",
    "    # Results\n",
    "    print(\"Paid\", payment, \"of which\", interest_paid, \"was interest.\", end=' ')\n",
    "    print(\"Now I owe\", money_owed)"
   ]
  }
 ],
 "metadata": {
  "kernelspec": {
   "display_name": "Python 3",
   "language": "python",
   "name": "python3"
  },
  "language_info": {
   "codemirror_mode": {
    "name": "ipython",
    "version": 3
   },
   "file_extension": ".py",
   "mimetype": "text/x-python",
   "name": "python",
   "nbconvert_exporter": "python",
   "pygments_lexer": "ipython3",
   "version": "3.13.1"
  }
 },
 "nbformat": 4,
 "nbformat_minor": 2
}
